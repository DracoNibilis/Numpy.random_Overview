{
 "cells": [
  {
   "cell_type": "markdown",
   "id": "7ec1733d",
   "metadata": {},
   "source": [
    "#  The Numpy.random package\n",
    "\n",
    "\n",
    "<img src=\"https://raw.githubusercontent.com/donnemartin/data-science-ipython-notebooks/master/images/numpy.png\" />\n",
    "\n",
    "\n",
    "\n",
    "***\n"
   ]
  },
  {
   "cell_type": "markdown",
   "id": "669e554b",
   "metadata": {},
   "source": [
    "### Explain the overall purpose of the package - numpy.random()\n",
    "***"
   ]
  },
  {
   "cell_type": "markdown",
   "id": "d89497e7",
   "metadata": {},
   "source": [
    "The **random** is a module present in the NumPy library. This module contains the functions which are used for generating random numbers, module contains:\n",
    "  * simple random data,\n",
    "  * permutations,\n",
    "  * distributions,\n",
    "  * random generator.\n",
    "\n",
    "\n",
    "##### Note\n",
    "\n",
    "**Random number** does **NOT** mean a different number every time. **Random** means something that can not be predicted logically.\n",
    "Pseudo-random numbers are computer generated numbers that appear random, but are actually predetermined.\n",
    "\n",
    "*Below are links with full documentation about the module.*  \n",
    "\n",
    "- numpy.random() documentation [click here](https://numpy.org/doc/stable/reference/random/index.html?highlight=numpy%20random#module-numpy.random)\n",
    "\n",
    "- This is documentation for an old release of NumPy (version 1.16) [click here](https://numpy.org/doc/1.16/reference/routines.random.html)\n",
    "\n",
    "- Numpy v1.21 Overview [click here](https://numpy.org/doc/stable/)\n",
    "\n",
    "\n",
    "***"
   ]
  },
  {
   "cell_type": "markdown",
   "id": "fbdf5d10",
   "metadata": {},
   "source": [
    "#### Modules\n",
    "To dig deeper into the module, we will need do to few imports of libraries that gonna be used in the below description:\n"
   ]
  },
  {
   "cell_type": "code",
   "execution_count": 1,
   "id": "f9e69fff",
   "metadata": {},
   "outputs": [],
   "source": [
    "# import packages\n",
    "import numpy as np # for statistical methods\n",
    "import matplotlib.pyplot as plt # for plotting\n"
   ]
  },
  {
   "cell_type": "markdown",
   "id": "76d8ee48",
   "metadata": {},
   "source": [
    "***\n",
    "***"
   ]
  },
  {
   "cell_type": "markdown",
   "id": "24b664b7",
   "metadata": {},
   "source": [
    "### Simple Random Data\n",
    "***"
   ]
  },
  {
   "cell_type": "markdown",
   "id": "9694c2dd",
   "metadata": {},
   "source": [
    "The numpy random has ability to generate random list of data. Functions included in ***simple random data*** return array of data with random values in specified scope and shape. \n",
    "Functions included here are:\n",
    "- rand\n",
    "- randn\n",
    "- randint\n",
    "- random_integers\n",
    "- random_sample\n",
    "- random\n",
    "- ranf\n",
    "- sample\n",
    "- choice\n",
    "- bytes.\n",
    "\n"
   ]
  },
  {
   "cell_type": "markdown",
   "id": "2aa78ef4",
   "metadata": {},
   "source": [
    "We will look into ***rand*** function to see how it works."
   ]
  },
  {
   "cell_type": "markdown",
   "id": "2d4f6a56",
   "metadata": {},
   "source": [
    "***rand*** function syntax:\n",
    "```\n",
    "     numpy.random.rand(d0, d1, ..., dn)\n",
    "     \n",
    "``` \n",
    "d - for dimensions\n",
    "\n",
    "If no argument is given a single Python float is returned.\n",
    "***"
   ]
  },
  {
   "cell_type": "code",
   "execution_count": 2,
   "id": "7be6214c",
   "metadata": {},
   "outputs": [
    {
     "name": "stdout",
     "output_type": "stream",
     "text": [
      "0.8324218257386402\n"
     ]
    }
   ],
   "source": [
    "# use rand without an argument.\n",
    "rgn = np.random.rand()\n",
    "print(rgn)"
   ]
  },
  {
   "cell_type": "markdown",
   "id": "e23607c0",
   "metadata": {},
   "source": [
    "Function rand used without parameters will generate one random number in the scope 0-1. Each time when we will use the function it will generate a different number. Lets try it few times:"
   ]
  },
  {
   "cell_type": "code",
   "execution_count": 3,
   "id": "b1e9e2fb",
   "metadata": {
    "scrolled": true
   },
   "outputs": [
    {
     "name": "stdout",
     "output_type": "stream",
     "text": [
      "first number is:  0.7095600437465229\n"
     ]
    }
   ],
   "source": [
    "print(\"first number is: \", np.random.rand())"
   ]
  },
  {
   "cell_type": "code",
   "execution_count": 4,
   "id": "025eb34b",
   "metadata": {},
   "outputs": [
    {
     "name": "stdout",
     "output_type": "stream",
     "text": [
      "second number is:  0.8724996807976672\n"
     ]
    }
   ],
   "source": [
    "print(\"second number is: \", np.random.rand())"
   ]
  },
  {
   "cell_type": "code",
   "execution_count": 5,
   "id": "38ef9a8a",
   "metadata": {},
   "outputs": [
    {
     "name": "stdout",
     "output_type": "stream",
     "text": [
      "third number is:  0.05889224373390345\n"
     ]
    }
   ],
   "source": [
    "print(\"third number is: \", np.random.rand())"
   ]
  },
  {
   "cell_type": "markdown",
   "id": "af673617",
   "metadata": {},
   "source": [
    "By using only one parameter _(8)_ we will get 1D Array filled with random values."
   ]
  },
  {
   "cell_type": "code",
   "execution_count": 6,
   "id": "a1e04409",
   "metadata": {},
   "outputs": [
    {
     "name": "stdout",
     "output_type": "stream",
     "text": [
      "[0.30797694 0.38866224 0.13314212 0.10523317 0.00729911 0.27144616\n",
      " 0.38769308 0.72579661]\n"
     ]
    }
   ],
   "source": [
    "# use rand with one argument.\n",
    "rgn = np.random.rand(8)\n",
    "print(rgn)"
   ]
  },
  {
   "cell_type": "markdown",
   "id": "aad33e04",
   "metadata": {},
   "source": [
    "By using two parameters _(5,3)_ we will get the array with 5 columns and 3 rows. "
   ]
  },
  {
   "cell_type": "code",
   "execution_count": 7,
   "id": "0a7b3010",
   "metadata": {},
   "outputs": [
    {
     "name": "stdout",
     "output_type": "stream",
     "text": [
      "[[0.30122793 0.00382586 0.95378586]\n",
      " [0.3164488  0.78448347 0.20496923]\n",
      " [0.35672823 0.12845944 0.20427188]\n",
      " [0.63620607 0.93404599 0.13108478]\n",
      " [0.89739314 0.70039942 0.82425704]]\n"
     ]
    }
   ],
   "source": [
    "# use rand with two parameters.\n",
    "rgn = np.random.rand(5,3)\n",
    "print(rgn)"
   ]
  },
  {
   "cell_type": "markdown",
   "id": "41483a15",
   "metadata": {},
   "source": [
    "To change the range we can multiply the function by the largest number that we want to produce. "
   ]
  },
  {
   "cell_type": "code",
   "execution_count": 8,
   "id": "0ef2399c",
   "metadata": {},
   "outputs": [
    {
     "name": "stdout",
     "output_type": "stream",
     "text": [
      "[[5.21548965 0.87552584 5.89274257]\n",
      " [9.87534662 0.21772917 6.08263191]\n",
      " [9.9694244  8.15582729 5.86988715]\n",
      " [7.81421452 0.40619694 4.45809185]\n",
      " [0.17963956 0.96261116 5.30862231]]\n"
     ]
    }
   ],
   "source": [
    "# multiply function by 10 \n",
    "rgn = 10 * np.random.rand(5,3)\n",
    "print(rgn)"
   ]
  },
  {
   "cell_type": "markdown",
   "id": "3400b42c",
   "metadata": {},
   "source": [
    "Now the result contains random numbers from 0 up to 10.\n",
    "***\n",
    "***"
   ]
  },
  {
   "cell_type": "markdown",
   "id": "9f55510f",
   "metadata": {},
   "source": [
    "### Permutation\n",
    "***\n"
   ]
  },
  {
   "cell_type": "markdown",
   "id": "63265338",
   "metadata": {},
   "source": [
    "The numpy.random library has two function that performs permutations or shuffling data:\n",
    "* shuffle\n",
    "* permutation.\n"
   ]
  },
  {
   "cell_type": "markdown",
   "id": "f14c11b5",
   "metadata": {},
   "source": [
    "Let's look into permutation function. \n",
    "\n",
    "##### Note\n",
    "The key differences between the permutation() and shuffle() functions are that if passed an array, the permutation() function returns a shuffled copy of the original array. In contrast, the shuffle() function shuffles the original array.\n",
    "\n",
    "Two main purposes of ***permutation*** function:\n",
    "- to get a randomly permuted copy of a sequence\n",
    "- to get a randomly permuted range in Python."
   ]
  },
  {
   "cell_type": "markdown",
   "id": "445f28d7",
   "metadata": {},
   "source": [
    "***permutation*** function syntax:\n",
    "\n",
    "```\n",
    "    np.random.permutation(x)\n",
    "```\n",
    "If no argument is given we will get TypeError:\n",
    "```\n",
    "TypeError: permutation() takes exactly one argument (0 given)\n",
    "```\n"
   ]
  },
  {
   "cell_type": "markdown",
   "id": "9b3edc53",
   "metadata": {},
   "source": [
    "As one argument is needed for function to work, we can differ two types of arguments that can be passed to function:\n",
    "* an integer - \n",
    "* an array - "
   ]
  },
  {
   "cell_type": "markdown",
   "id": "5022ed8b",
   "metadata": {},
   "source": [
    "With an integer argument , function will give us a randomly permuted sequence of numbers with the given length."
   ]
  },
  {
   "cell_type": "code",
   "execution_count": 9,
   "id": "1118e8cf",
   "metadata": {},
   "outputs": [
    {
     "name": "stdout",
     "output_type": "stream",
     "text": [
      "with argument 2 -->  [1 0]\n",
      "with argument 20 -->  [ 6  4 15 12 18  1 11  3 10 16  9 14  7  0 17 19  5 13  2  8]\n"
     ]
    }
   ],
   "source": [
    "# passing as an argument, an integer \n",
    "arg_int_2 = np.random.permutation(2)\n",
    "print(\"with argument 2 --> \",arg_int_2)\n",
    "\n",
    "arg_int_20 = np.random.permutation(20)\n",
    "print(\"with argument 20 --> \", arg_int_20)"
   ]
  },
  {
   "cell_type": "markdown",
   "id": "9ec0c697",
   "metadata": {},
   "source": [
    "##### Note\n",
    "\n",
    "Each running of the code will generate differently shuffle sequence."
   ]
  },
  {
   "cell_type": "markdown",
   "id": "8fc0e8dd",
   "metadata": {},
   "source": [
    "With an array argument function will return a shuffled copy of the original array."
   ]
  },
  {
   "cell_type": "code",
   "execution_count": 10,
   "id": "f0bc47c3",
   "metadata": {},
   "outputs": [
    {
     "name": "stdout",
     "output_type": "stream",
     "text": [
      "original array  [1, 2, 3, 4, 5, 6, 7, 8, 9]\n",
      "shuffled array [2 9 4 7 8 1 6 3 5]\n",
      "original array after permutation [1, 2, 3, 4, 5, 6, 7, 8, 9]\n"
     ]
    }
   ],
   "source": [
    "# passing an array/list as an argument\n",
    "num_arr = [1,2,3,4,5,6,7,8,9]\n",
    "\n",
    "print(\"original array \", num_arr)\n",
    "print(\"shuffled array\", np.random.permutation(num_arr))\n",
    "print(\"original array after permutation\", num_arr)\n"
   ]
  },
  {
   "cell_type": "markdown",
   "id": "67048de6",
   "metadata": {},
   "source": [
    "***\n",
    "***"
   ]
  },
  {
   "cell_type": "markdown",
   "id": "54400e13",
   "metadata": {},
   "source": [
    "### Random generator\n",
    "***"
   ]
  },
  {
   "cell_type": "markdown",
   "id": "58721e72",
   "metadata": {},
   "source": [
    "In the numpy.random module we have also access to the random generator. Here we can find 4 functions:\n",
    "- RandomState\n",
    "- seed\n",
    "- get_state\n",
    "- set_state.\n"
   ]
  },
  {
   "cell_type": "markdown",
   "id": "8e345fe7",
   "metadata": {},
   "source": [
    "Let's look into ***seed*** function\n",
    "\n",
    "```\n",
    "    np.random.seed(seed=None)\n",
    "```\n",
    "\n",
    "Here we have only one parameter that we can choose which is ***seed*** value that will be used to \"seed\" the pseudo-random number generator."
   ]
  },
  {
   "cell_type": "markdown",
   "id": "4c3b5987",
   "metadata": {},
   "source": [
    "By definition np.random.seed() is simply function that sets the random seed of the NumPy pseud-random number generator. It provides an essential input that enables NumPy to generate pseudo-random numbers for random processes."
   ]
  },
  {
   "cell_type": "markdown",
   "id": "497fb9f9",
   "metadata": {},
   "source": [
    "***Other words*** if you run the algorithm with the same input , it will produce the same output. So you can use \"seed\" to create and thn re-create the exact same set of pseudo-random numbers."
   ]
  },
  {
   "cell_type": "markdown",
   "id": "b90b2e86",
   "metadata": {},
   "source": [
    "***Note*** \n",
    "Importantly, numpy.random.seed doesn’t exactly work all on its own, function works in conjunction with other functions from NumPy.\n",
    "Specifically, numpy.random.seed works with other function from the numpy.random namespace."
   ]
  },
  {
   "cell_type": "markdown",
   "id": "35063d3c",
   "metadata": {},
   "source": [
    "Let's see above rules in practice:"
   ]
  },
  {
   "cell_type": "code",
   "execution_count": 11,
   "id": "c65c1dad",
   "metadata": {},
   "outputs": [
    {
     "name": "stdout",
     "output_type": "stream",
     "text": [
      "[[0.97276521 0.00862779 0.14487809]\n",
      " [0.81151609 0.39228378 0.75595786]\n",
      " [0.430311   0.50622373 0.26654391]\n",
      " [0.72334101 0.88265202 0.64977667]\n",
      " [0.41857901 0.65621929 0.57398282]]\n"
     ]
    }
   ],
   "source": [
    "# we will use familiar method from above - numpy.random.rand()\n",
    "rgn = np.random.rand(5,3)\n",
    "print(rgn)"
   ]
  },
  {
   "cell_type": "markdown",
   "id": "775b1332",
   "metadata": {},
   "source": [
    "Rand function will produce randomly generated array of numbers between 0-1. When we will run the same code again, we will get different array of numbers."
   ]
  },
  {
   "cell_type": "markdown",
   "id": "8285005a",
   "metadata": {},
   "source": [
    "Now lets do the same but with using ***seed***..."
   ]
  },
  {
   "cell_type": "code",
   "execution_count": 12,
   "id": "9cccc06b",
   "metadata": {},
   "outputs": [
    {
     "name": "stdout",
     "output_type": "stream",
     "text": [
      "[[0.5488135  0.71518937 0.60276338]\n",
      " [0.54488318 0.4236548  0.64589411]\n",
      " [0.43758721 0.891773   0.96366276]\n",
      " [0.38344152 0.79172504 0.52889492]\n",
      " [0.56804456 0.92559664 0.07103606]]\n"
     ]
    }
   ],
   "source": [
    "# using seed with rand function.\n",
    "np.random.seed(0)\n",
    "rgn = np.random.rand(5,3)\n",
    "print(rgn)"
   ]
  },
  {
   "cell_type": "markdown",
   "id": "40d61559",
   "metadata": {},
   "source": [
    "And we see that code genreated array with random numbers, but here if we run the same code again, the number will stay ***the same***. Let's try ...."
   ]
  },
  {
   "cell_type": "code",
   "execution_count": 13,
   "id": "31076d9d",
   "metadata": {},
   "outputs": [
    {
     "name": "stdout",
     "output_type": "stream",
     "text": [
      "[[0.5488135  0.71518937 0.60276338]\n",
      " [0.54488318 0.4236548  0.64589411]\n",
      " [0.43758721 0.891773   0.96366276]\n",
      " [0.38344152 0.79172504 0.52889492]\n",
      " [0.56804456 0.92559664 0.07103606]]\n"
     ]
    }
   ],
   "source": [
    "# Run the same code again.\n",
    "np.random.seed(0)\n",
    "rgn = np.random.rand(5,3)\n",
    "print(rgn)"
   ]
  },
  {
   "cell_type": "markdown",
   "id": "c86ccb52",
   "metadata": {},
   "source": [
    "Result is exacly the same like above."
   ]
  },
  {
   "cell_type": "markdown",
   "id": "3e57b043",
   "metadata": {},
   "source": [
    "***Note*** \n",
    "Here we use just one parameter to seed - 0.\n",
    "Let's see what will happen if we change it. And also we will change the function that we will see that example on. \n",
    "Let's generate some random integers."
   ]
  },
  {
   "cell_type": "markdown",
   "id": "bbb2a18a",
   "metadata": {},
   "source": [
    "Let's generate some random integers, to do that we gonna use ***randint*** function. \n",
    "    ```np.random.randint()\n",
    "    ```"
   ]
  },
  {
   "cell_type": "code",
   "execution_count": 14,
   "id": "ebb7278c",
   "metadata": {},
   "outputs": [
    {
     "name": "stdout",
     "output_type": "stream",
     "text": [
      "[2 5]\n"
     ]
    }
   ],
   "source": [
    "# why just simply generate random, let's play dice \n",
    "dices = np.random.randint(1,7, size=2)\n",
    "print(dices)"
   ]
  },
  {
   "cell_type": "markdown",
   "id": "15c872d3",
   "metadata": {},
   "source": [
    "Each run of above code will generate random generation of two integers 1-6 (in parameter is 7 but it's exclusive). "
   ]
  },
  {
   "cell_type": "code",
   "execution_count": 15,
   "id": "6a764f3d",
   "metadata": {},
   "outputs": [
    {
     "name": "stdout",
     "output_type": "stream",
     "text": [
      "[5 6]\n"
     ]
    }
   ],
   "source": [
    "# use seed method \n",
    "np.random.seed(0)\n",
    "dices = np.random.randint(1,7, size=2)\n",
    "print(dices)"
   ]
  },
  {
   "cell_type": "markdown",
   "id": "1f56a555",
   "metadata": {},
   "source": [
    "Hard to belive for a word, so lets copy the code and see...."
   ]
  },
  {
   "cell_type": "code",
   "execution_count": 16,
   "id": "f03164b4",
   "metadata": {},
   "outputs": [
    {
     "name": "stdout",
     "output_type": "stream",
     "text": [
      "[5 6]\n"
     ]
    }
   ],
   "source": [
    "# another use of the same code, with the same seed\n",
    "np.random.seed(0)\n",
    "dices = np.random.randint(1,7, size=2)\n",
    "print(dices)"
   ]
  },
  {
   "cell_type": "markdown",
   "id": "658d8b31",
   "metadata": {},
   "source": [
    "And output is exacly the same."
   ]
  },
  {
   "cell_type": "markdown",
   "id": "99ba9725",
   "metadata": {},
   "source": [
    "What about different seed."
   ]
  },
  {
   "cell_type": "code",
   "execution_count": 17,
   "id": "c5e8d662",
   "metadata": {},
   "outputs": [
    {
     "name": "stdout",
     "output_type": "stream",
     "text": [
      "[2 6]\n"
     ]
    }
   ],
   "source": [
    "# let's change the seed to 10 \n",
    "np.random.seed(10)\n",
    "dices = np.random.randint(1,7, size=2)\n",
    "print(dices)"
   ]
  },
  {
   "cell_type": "markdown",
   "id": "b08a2700",
   "metadata": {},
   "source": [
    "Running above code again will give exacly the same output."
   ]
  },
  {
   "cell_type": "markdown",
   "id": "d7b4db06",
   "metadata": {},
   "source": [
    "***Note***\n",
    "If you give a pseudo-random number generator the same input, you'll get the same output.\n",
    "And code that has well defined, repeatable outputs is good for testing. Also is good in case that code has to be shared and we want to keep exacly the same group for testing. "
   ]
  },
  {
   "cell_type": "markdown",
   "id": "219471e5",
   "metadata": {},
   "source": [
    "***\n",
    "***"
   ]
  },
  {
   "cell_type": "markdown",
   "id": "9d0519b0",
   "metadata": {},
   "source": [
    "### Distributions\n",
    "***"
   ]
  },
  {
   "cell_type": "markdown",
   "id": "c3bd7bc2",
   "metadata": {},
   "source": [
    "In this part we will go throught functions that draw samples based on a specify distribution.\n",
    "Whitin this category we will have many variations exists to produce many combinations of random data with varing distributions.\n",
    "Since list of these functions is long, we will focus on few choosen:\n",
    " \n",
    " - numpy.random.normal\n",
    " - numpy.random.uniform\n",
    " - numpy.random.chisquare\n",
    " - numpy.random.gamma\n",
    " - numpy.random.binomial\n",
    "\n",
    "\n",
    " \n",
    " "
   ]
  },
  {
   "cell_type": "markdown",
   "id": "2243d7f6",
   "metadata": {},
   "source": [
    "***"
   ]
  },
  {
   "cell_type": "markdown",
   "id": "1394a487",
   "metadata": {},
   "source": [
    "##### -- numpy.random.normal --"
   ]
  },
  {
   "cell_type": "markdown",
   "id": "8f530ab8",
   "metadata": {},
   "source": [
    "First function that we gonna look into is ***numpy.random.normal***:\n",
    "\n",
    "```\n",
    "    numpy.random.normal(loc=0.0, scale=1.0, size=None)\n",
    "    \n",
    "```\n",
    "***parameters***:\n",
    "- ***loc*** - this parameter controls the mean of the function. It defaults to 0, so if you dont use this parameter to specify the mean of the distribution, the mean will be at 0. \n",
    "- ***scale*** - controls the standard deviation of the normal distribution. By default it's set to 1. It must not be a negative value.\n",
    "- ***size*** - this one controls the size and shape of the output. If you provide a single integer, x, np.random.normal will provide x random normal values in a 1-dimensional NumPy array. For example, if you specify size = (2, 3), np.random.normal will produce a numpy array with 2 rows and 3 columns. It will be filled with numbers drawn from a random normal distribution.\n",
    "\n",
    "***Note***\n",
    "All of those parameters are optional, so by not choosing them they will be set to default.\n",
    "- loc - default is 0\n",
    "- scale - default is 1\n",
    "- size - default is 1.\n",
    "\n",
    "\n",
    "\n",
    "This function draw random samples from a normal (Gaussian) distribution. \n",
    "Normally distributed data is shaped sort of like a bell, so it’s often called the “bell curve.”\n"
   ]
  },
  {
   "cell_type": "markdown",
   "id": "066f1b00",
   "metadata": {},
   "source": [
    "***Firstly*** let's create *np.random.normal() function with one parameter and we will start from the ***loc*** parameter."
   ]
  },
  {
   "cell_type": "code",
   "execution_count": 18,
   "id": "98322017",
   "metadata": {},
   "outputs": [
    {
     "name": "stdout",
     "output_type": "stream",
     "text": [
      "5.037772614402271\n"
     ]
    }
   ],
   "source": [
    "# function with only loc as a given parameter.\n",
    "loc_parameter = np.random.normal(loc=5)\n",
    "print(loc_parameter)"
   ]
  },
  {
   "cell_type": "markdown",
   "id": "515e6485",
   "metadata": {},
   "source": [
    "***loc*** means the mean value of the random values chose from the function, other words is where the peak of the bell exists. So the output will be one number close to the mean that we choose, in this case is 5. Each run of code will give us different result.\n"
   ]
  },
  {
   "cell_type": "markdown",
   "id": "b065ba74",
   "metadata": {},
   "source": [
    "***Secondly*** let's create np.random.normal() function with one parameter choosen and this time let's go with ***scale***."
   ]
  },
  {
   "cell_type": "code",
   "execution_count": 19,
   "id": "b83f9d90",
   "metadata": {},
   "outputs": [
    {
     "name": "stdout",
     "output_type": "stream",
     "text": [
      "-0.6772424577800505\n"
     ]
    }
   ],
   "source": [
    "# function with only scale as a given parameter.\n",
    "scale_parameter = np.random.normal(scale=5.0)\n",
    "print(scale_parameter)"
   ]
  },
  {
   "cell_type": "markdown",
   "id": "896a55f8",
   "metadata": {},
   "source": [
    "***scale*** means the standard deviation of the values choosen from the function. Also each run of code will give us a different result."
   ]
  },
  {
   "cell_type": "markdown",
   "id": "920b0c0a",
   "metadata": {},
   "source": [
    "***Thirdly*** let's create np.random.normal() with ***size*** as a choosen parameter."
   ]
  },
  {
   "cell_type": "code",
   "execution_count": 20,
   "id": "14264837",
   "metadata": {},
   "outputs": [
    {
     "name": "stdout",
     "output_type": "stream",
     "text": [
      "[-0.01002595  1.67080819 -0.66437971 -0.60555494 -0.65099088]\n"
     ]
    }
   ],
   "source": [
    "# function with only size as a given parameter.\n",
    "size_parameter = np.random.normal(size=5)\n",
    "print(size_parameter)"
   ]
  },
  {
   "cell_type": "markdown",
   "id": "5ffcddc0",
   "metadata": {},
   "source": [
    "***size*** means the number of values in the array, so here we have array with five elements. As with other two cases, each run of code will generate different set of numbers, but still will be five of them."
   ]
  },
  {
   "cell_type": "markdown",
   "id": "9c8c0a51",
   "metadata": {},
   "source": [
    "So now when we familiar with parameters, let's use them all together and get some real-life example. \n",
    "\n",
    "Example: height in adults."
   ]
  },
  {
   "cell_type": "code",
   "execution_count": 21,
   "id": "a7fe4d48",
   "metadata": {},
   "outputs": [
    {
     "name": "stdout",
     "output_type": "stream",
     "text": [
      "[1.82688516 1.78935832 1.66259025 ... 1.75266492 1.75111919 1.64653351]\n"
     ]
    }
   ],
   "source": [
    "# creating function with heights of adults\n",
    "heights = np.random.normal(loc=1.75, # loc will be the set to 1.75 which means the most common height in cm\n",
    "                           scale=0.15, # scale (standard deviation) set for 0.15\n",
    "                           size=10000) # size set to 10000 - the amount of the people\n",
    "print(heights)"
   ]
  },
  {
   "cell_type": "markdown",
   "id": "4c139627",
   "metadata": {},
   "source": [
    "***Note***\n",
    "Not all data are shown in the output above, so it's not easy to read and analize our results."
   ]
  },
  {
   "cell_type": "markdown",
   "id": "d48342d0",
   "metadata": {},
   "source": [
    "To get a better view let's plot those data into histogram using pyplot library."
   ]
  },
  {
   "cell_type": "code",
   "execution_count": 22,
   "id": "2e64fc25",
   "metadata": {},
   "outputs": [
    {
     "data": {
      "image/png": "[encoded data removed]",
      "text/plain": [
       "<Figure size 432x288 with 1 Axes>"
      ]
     },
     "metadata": {
      "needs_background": "light"
     },
     "output_type": "display_data"
    }
   ],
   "source": [
    "# drawing histogram of normally distributed data of height\n",
    "plt.hist(heights, # use of heights data created above\n",
    "         bins=10,  # how many data should be group in one bin\n",
    "         color=\"c\") # changing color of histogram\n",
    "plt.title(\"Normal Distribution\")\n",
    "plt.show()"
   ]
  },
  {
   "cell_type": "markdown",
   "id": "2693fb32",
   "metadata": {},
   "source": [
    "Now we can see that the histogram is going into mentioned above Bell Shape. So to do analysis of that shape, we can surly enough say that it's more common that in our group of 10000 people most of them will have height between 1.60 cm and 1.90 cm, and as in real life, rarely we can meet somebody whos height is less than 1.4 cm, and somebody whos height is above 2.2 cm."
   ]
  },
  {
   "cell_type": "code",
   "execution_count": 23,
   "id": "b803c7cf",
   "metadata": {},
   "outputs": [
    {
     "data": {
      "image/png": "[encoded data removed]",
      "text/plain": [
       "<Figure size 432x288 with 1 Axes>"
      ]
     },
     "metadata": {
      "needs_background": "light"
     },
     "output_type": "display_data"
    }
   ],
   "source": [
    "# one more time with more bins\n",
    "plt.hist(heights,\n",
    "         bins=50,  # how many data should be group in one bin\n",
    "         color=\"c\") # changing color of histogram\n",
    "plt.title(\"Normal Distribution\")\n",
    "plt.show()"
   ]
  },
  {
   "cell_type": "markdown",
   "id": "baf5b905",
   "metadata": {},
   "source": [
    "With more bins we can see more bell shape. "
   ]
  },
  {
   "cell_type": "markdown",
   "id": "e0faf6f3",
   "metadata": {},
   "source": [
    "***"
   ]
  },
  {
   "cell_type": "markdown",
   "id": "8427a933",
   "metadata": {},
   "source": [
    "##### -- numpy.random.uniform --"
   ]
  },
  {
   "cell_type": "markdown",
   "id": "b0d46b08",
   "metadata": {},
   "source": [
    "This function is used to describe probability where every event has equal chances of occuring."
   ]
  },
  {
   "cell_type": "markdown",
   "id": "e3cfe343",
   "metadata": {},
   "source": [
    "Let's look on the syntax:\n",
    "\n",
    "        ``` numpy.random.uniform(low=0.0, high=1.0, size=None)\n",
    "        ```\n",
    "        \n",
    "parameters:\n",
    "- low - Lower boundry of the output interval. All values generated will be greater than or equal to low. Default - 0.0.\n",
    "- high - Upper boundry of the output interval. All values will be less than or equal to high. The default value is 1.0.\n",
    "- size - Output shape. If the shape is given, e.g. (m, n, k) then m * n * k samples are drown. If size is None (default) , a single value is returned."
   ]
  },
  {
   "cell_type": "markdown",
   "id": "3cdeb5d7",
   "metadata": {},
   "source": [
    "Let's see how this will work with simple example."
   ]
  },
  {
   "cell_type": "code",
   "execution_count": 24,
   "id": "10de9123",
   "metadata": {},
   "outputs": [
    {
     "name": "stdout",
     "output_type": "stream",
     "text": [
      "[0.37351714 0.53410549 0.33852761 0.11006575 0.71313431 0.14650152\n",
      " 0.44672507 0.69268483 0.68872757 0.6140423 ]\n"
     ]
    }
   ],
   "source": [
    "# simple code of uniform function with size as a given parameter\n",
    "uni_f = np.random.uniform(size=10)\n",
    "print(uni_f)"
   ]
  },
  {
   "cell_type": "markdown",
   "id": "ae365c4e",
   "metadata": {},
   "source": [
    "We get an array of 10 randomly choosen floats between 0-1. \n",
    "Each run of code will generate new array."
   ]
  },
  {
   "cell_type": "markdown",
   "id": "e5440bf5",
   "metadata": {},
   "source": [
    "Now time to see how it will look like on the graph. Let's plt histogram for it. "
   ]
  },
  {
   "cell_type": "code",
   "execution_count": 25,
   "id": "0c67b86f",
   "metadata": {},
   "outputs": [
    {
     "data": {
      "image/png": "[encoded data removed]",
      "text/plain": [
       "<Figure size 432x288 with 1 Axes>"
      ]
     },
     "metadata": {
      "needs_background": "light"
     },
     "output_type": "display_data"
    }
   ],
   "source": [
    "# plot histogram \n",
    "plt.hist(uni_f, color=\"r\")\n",
    "plt.title(\"Uniform Distribution\")\n",
    "plt.show()"
   ]
  },
  {
   "cell_type": "markdown",
   "id": "42a6e4b3",
   "metadata": {},
   "source": [
    "Hard to see uniformness of spread of data in such a small group, let's change size for 10 000. "
   ]
  },
  {
   "cell_type": "code",
   "execution_count": 26,
   "id": "7a8243a2",
   "metadata": {},
   "outputs": [
    {
     "data": {
      "image/png": "[encoded data removed]",
      "text/plain": [
       "<Figure size 432x288 with 1 Axes>"
      ]
     },
     "metadata": {
      "needs_background": "light"
     },
     "output_type": "display_data"
    }
   ],
   "source": [
    "# uniform function with bigger size\n",
    "uni_ff = np.random.uniform(size=100000)\n",
    "plt.hist(uni_ff, color=\"g\")\n",
    "plt.title(\"Uniform Distribution\")\n",
    "plt.show()"
   ]
  },
  {
   "cell_type": "markdown",
   "id": "2a540c10",
   "metadata": {},
   "source": [
    "And now we can clearly see, that evey number has equal likelihood of showing up. "
   ]
  },
  {
   "cell_type": "markdown",
   "id": "b2bcdb99",
   "metadata": {},
   "source": [
    "Let's try something else, let's use seed method, to see how it will work togheter."
   ]
  },
  {
   "cell_type": "code",
   "execution_count": null,
   "id": "598a4592",
   "metadata": {},
   "outputs": [],
   "source": []
  },
  {
   "cell_type": "code",
   "execution_count": 27,
   "id": "d0bb38f6",
   "metadata": {},
   "outputs": [
    {
     "name": "stdout",
     "output_type": "stream",
     "text": [
      "[[27.4406752  35.75946832 30.1381688  27.24415915 21.18273997 32.29470565\n",
      "  21.87936056 44.58865004 48.18313803 19.17207594]\n",
      " [39.5862519  26.44474599 28.40222805 46.27983191  3.55180291  4.35646499\n",
      "   1.01091987 41.63099228 38.90783755 43.50060741]\n",
      " [48.93091711 39.95792821 23.07396811 39.02645881  5.91372129 31.99605107\n",
      "   7.16766437 47.23344585 26.09241609 20.733097  ]\n",
      " [13.22778061 38.71168447 22.80751661 28.42169744  0.93949002 30.88177485\n",
      "  30.60478614 30.84669984 47.18740393 34.09101496]\n",
      " [17.97539503 21.85159769 34.8815598   3.01127358 33.33833577 33.53189348\n",
      "  10.51912805  6.44631488 15.77141755 18.18553855]\n",
      " [28.50983852 21.93007567 49.4186919   5.10224054 10.4438378   8.06547589\n",
      "  32.65541627 12.66458013 23.31553864 12.2212796 ]\n",
      " [ 7.94847918  5.51875706 32.81647947  6.90914757  9.82911808 18.43625853\n",
      "  41.04966149  4.85506379 41.89724537  4.80492039]\n",
      " [48.82297325 23.43256008 48.83805441 30.24227599 36.96317897  1.95938961\n",
      "  14.14034813  6.00982806 14.80700988  5.93638595]\n",
      " [15.89915897 20.71314973  3.20737482 34.62360597 28.33007271 13.26947455\n",
      "  26.16240267  4.69702554 28.79732478 46.46480988]\n",
      " [15.92844762 33.370519    6.58989312 35.81636021 14.47030465  9.1595681\n",
      "  29.32564674  1.00537731 41.44700146  0.23477381]]\n"
     ]
    }
   ],
   "source": [
    "# use uniform with seed\n",
    "np.random.seed(0)\n",
    "pol = np.random.uniform(size = (10,10),# output will be an array with 10 rows and 10 columns\n",
    "                        low = 0, # start of range of possible values\n",
    "                        high = 50) # end of the range of possible values\n",
    "print(pol)"
   ]
  },
  {
   "cell_type": "code",
   "execution_count": 28,
   "id": "0b2fc43b",
   "metadata": {},
   "outputs": [
    {
     "data": {
      "image/png": "[encoded data removed]",
      "text/plain": [
       "<Figure size 432x288 with 1 Axes>"
      ]
     },
     "metadata": {
      "needs_background": "light"
     },
     "output_type": "display_data"
    }
   ],
   "source": [
    "# plot for pol - above data \n",
    "plt.hist(pol)\n",
    "plt.show()"
   ]
  },
  {
   "cell_type": "markdown",
   "id": "818b17cb",
   "metadata": {},
   "source": [
    "***"
   ]
  },
  {
   "cell_type": "markdown",
   "id": "8fefd7dd",
   "metadata": {},
   "source": [
    "##### -- numpy.random.binomial --"
   ]
  },
  {
   "cell_type": "markdown",
   "id": "f740e4f4",
   "metadata": {},
   "source": [
    "This function is a discrete probablility distribution that models the outcomes of a given number of random trails of some experiment or event. The binominal distribution tells you how likely it is to achive a given number of successes in ***n*** trials of the experiment. "
   ]
  },
  {
   "cell_type": "markdown",
   "id": "01c129f9",
   "metadata": {},
   "source": [
    "Let's look on the function syntax:\n",
    "\n",
    "        ```numpy.random.binomial(n, p, size=None)\n",
    "        ```\n",
    "\n",
    "parameters:\n",
    "* ***n*** - number of trials (required)\n",
    "* ***p*** - probability of occurence of each trial (required)\n",
    "* ***size*** - the shape of the returned array. (optional)"
   ]
  },
  {
   "cell_type": "markdown",
   "id": "858d0edf",
   "metadata": {},
   "source": [
    "***NOTE*** \n",
    "Here we can mention that the main difference between ***normal*** and ***binomial*** distribution is that:\n",
    "normal - is continous\n",
    "binomial - is discrete.\n",
    "\n",
    "Other words the distribution is defined at separate set of events, e.g. a coin toss's result is discrete as it can be only head or tails whereas height of people is continuous as it can be 170, 170.1, 170.11 and so on.\n"
   ]
  },
  {
   "cell_type": "markdown",
   "id": "b4050089",
   "metadata": {},
   "source": [
    "Let's see how it looks like in practice, let's toss a coin."
   ]
  },
  {
   "cell_type": "code",
   "execution_count": 29,
   "id": "409682fa",
   "metadata": {},
   "outputs": [
    {
     "name": "stdout",
     "output_type": "stream",
     "text": [
      "[6 4 6 8 4 5 5 5 4 8]\n"
     ]
    }
   ],
   "source": [
    "# flipping a coin\n",
    "coins = np.random.binomial(n = 10, # how many times you flip the coin\n",
    "                           p = 0.5, # probablility of getting heads after each flip is 0.5 ( 50%)\n",
    "                           size = 10) # experiment is done 10 times (each experiment involves flipping coin 10 times\n",
    "print(coins)"
   ]
  },
  {
   "cell_type": "markdown",
   "id": "185ad4db",
   "metadata": {},
   "source": [
    "Now, how to read the result.\n",
    "So here first value in the array can be understood as that a coin was flipped 10 times where probability of heads was 0.5, and in the result we've got 6 heads, second value in the array means that ywe've get 4 heads and so on. And in the array we have 10 values becouse that is the number of experiments. "
   ]
  },
  {
   "cell_type": "markdown",
   "id": "bf746f3e",
   "metadata": {},
   "source": [
    "Let's vizualizate this case:"
   ]
  },
  {
   "cell_type": "code",
   "execution_count": 33,
   "id": "c4c66bd2",
   "metadata": {},
   "outputs": [
    {
     "data": {
      "image/png": "[encoded data removed]",
      "text/plain": [
       "<Figure size 432x288 with 1 Axes>"
      ]
     },
     "metadata": {
      "needs_background": "light"
     },
     "output_type": "display_data"
    }
   ],
   "source": [
    "# wizualization for coin experiment\n",
    "bin = np.arange(0,10,1)\n",
    "plt.hist(coins, bins=bin, edgecolor=\"black\")\n",
    "plt.title(\"Binomial Distribution\")\n",
    "plt.show()\n",
    "# hist below - we have 3 times for 4 and 5 heads on each experiment, \n",
    "# two times for 6 and 8 heads in experiment"
   ]
  },
  {
   "cell_type": "code",
   "execution_count": 31,
   "id": "1361e8dd",
   "metadata": {},
   "outputs": [
    {
     "name": "stdout",
     "output_type": "stream",
     "text": [
      "[5 7 6 4 6 5 7 5 7 6 6 5 8 6 5 5 2 4 6 4 5 5 3 4 5 5 5 6 6 5 7 4 5 7 6 6 3\n",
      " 7 6 9 3 7 3 5 3 7 6 5 5 3 6 5 6 7 8 7 2 4 6 3 5 2 4 2 6 4 4 7 6 2 3 5 5 4\n",
      " 7 5 5 5 6 4 5 4 4 7 6 5 4 4 3 5 4 6 5 4 2 3 6 5 5 7]\n"
     ]
    }
   ],
   "source": [
    "# same coin experiment, but with much more tries\n",
    "coins = np.random.binomial(n = 10, # how many times you flip the coin\n",
    "                           p = 0.5, # probablility of getting heads after each flip is 0.5 ( 50%)\n",
    "                           size = 100) # experiment is done 10 times (each experiment involves flipping coin 10 times\n",
    "print(coins)"
   ]
  },
  {
   "cell_type": "code",
   "execution_count": 34,
   "id": "c2aab43b",
   "metadata": {},
   "outputs": [
    {
     "data": {
      "image/png": "[encoded data removed]",
      "text/plain": [
       "<Figure size 432x288 with 1 Axes>"
      ]
     },
     "metadata": {
      "needs_background": "light"
     },
     "output_type": "display_data"
    }
   ],
   "source": [
    "bin = np.arange(0,10,1)\n",
    "plt.hist(coins, bins=bin, edgecolor=\"black\")\n",
    "plt.title(\"Binomial Distribution\")\n",
    "plt.show()"
   ]
  },
  {
   "cell_type": "markdown",
   "id": "9872c3c0",
   "metadata": {},
   "source": [
    "***Note*** \n",
    "Binomial distribution with enough data points will be quite similar to normal distribution with certain loc and scale."
   ]
  },
  {
   "cell_type": "markdown",
   "id": "b50222a3",
   "metadata": {},
   "source": [
    "***\n",
    "***"
   ]
  },
  {
   "cell_type": "markdown",
   "id": "49248b4b",
   "metadata": {},
   "source": [
    "##### -- numpy.random.poisson--"
   ]
  },
  {
   "cell_type": "markdown",
   "id": "3ba19ec3",
   "metadata": {},
   "source": [
    "A poisson distribution is a distribution which shows the likely number of times that an event will occur with a pre-determined perion of time. Poisson distribution is a discrete distribution"
   ]
  },
  {
   "cell_type": "markdown",
   "id": "4aae9ce6",
   "metadata": {},
   "source": [
    "Let's look into syntax:\n",
    "\n",
    "    ```numpy.random.poisson(lam=1.0, size=None)\n",
    "    ```\n",
    "\n",
    "parameters:\n",
    "* ***lam*** - rate or known number of occurances\n",
    "* ***size*** - the shape of the returned array."
   ]
  },
  {
   "cell_type": "code",
   "execution_count": null,
   "id": "fd30fbdd",
   "metadata": {},
   "outputs": [],
   "source": [
    "# look on it \n",
    "Draw samples from the distribution:\n",
    "\n",
    ">>> import numpy as np\n",
    ">>> s = np.random.poisson(5, 10000)\n",
    "\n",
    "Display histogram of the sample:\n",
    "\n",
    ">>> import matplotlib.pyplot as plt\n",
    ">>> count, bins, ignored = plt.hist(s, 14, density=True)\n",
    ">>> plt.show()\n",
    "\n",
    "Draw each 100 values for lambda 100 and 500:\n",
    "\n",
    ">>> s = np.random.poisson(lam=(100., 500.), size=(100, 2))"
   ]
  },
  {
   "cell_type": "code",
   "execution_count": 36,
   "id": "cfe2fc2c",
   "metadata": {},
   "outputs": [
    {
     "data": {
      "image/png": "[encoded data removed]",
      "text/plain": [
       "<Figure size 432x288 with 1 Axes>"
      ]
     },
     "metadata": {
      "needs_background": "light"
     },
     "output_type": "display_data"
    }
   ],
   "source": [
    "pos = np.random.poisson(5,10000)\n",
    "plt.hist(pos, 14)\n",
    "plt.show()"
   ]
  },
  {
   "cell_type": "code",
   "execution_count": 37,
   "id": "0f4a44c2",
   "metadata": {},
   "outputs": [
    {
     "data": {
      "image/png": "[encoded data removed]",
      "text/plain": [
       "<Figure size 432x288 with 1 Axes>"
      ]
     },
     "metadata": {
      "needs_background": "light"
     },
     "output_type": "display_data"
    }
   ],
   "source": [
    "#Draw each 100 values for lambda 100 and 500:\n",
    "\n",
    "pos2 = np.random.poisson(lam=(100., 500.), size=(100, 2))\n",
    "plt.hist(pos2, 100)\n",
    "plt.show()"
   ]
  },
  {
   "cell_type": "code",
   "execution_count": null,
   "id": "b9dab89b",
   "metadata": {},
   "outputs": [],
   "source": []
  },
  {
   "cell_type": "code",
   "execution_count": null,
   "id": "d65e3c3e",
   "metadata": {},
   "outputs": [],
   "source": []
  },
  {
   "cell_type": "code",
   "execution_count": null,
   "id": "5f2f90b8",
   "metadata": {},
   "outputs": [],
   "source": []
  },
  {
   "cell_type": "markdown",
   "id": "66a9ace5",
   "metadata": {},
   "source": [
    "***\n",
    "***\n",
    "            ``` References: ```\n",
    "***\n",
    "***simple random data:***\n",
    "- https://docs.scipy.org/doc/numpy-1.12.0/reference/routines.random.html\n",
    "- https://www.w3schools.com/python/numpy/numpy_random.asp\n",
    "- https://www.geeksforgeeks.org/random-sampling-in-numpy-random-function/\n",
    "- https://numpy.org/doc/1.16/reference/routines.random.html\n",
    "- https://numpy.org/doc/1.16/reference/generated/numpy.random.rand.html#numpy.random.rand\n",
    "- https://www.geeksforgeeks.org/numpy-random-rand-python/\n",
    "\n",
    "***\n",
    "***permutations:***\n",
    "- https://www.w3schools.com/python/numpy/numpy_random_permutation.asp\n",
    "- https://numpy.org/doc/1.16/reference/generated/numpy.random.permutation.html#numpy.random.permutation\n",
    "- https://www.codegrepper.com/code-examples/python/numpy+random+permutation\n",
    "- https://codingstreets.com/introduction-to-python-numpy-random-permutations/\n",
    "- https://www.delftstack.com/howto/numpy/python-numpy-random-permutation/\n",
    "- https://www.geeksforgeeks.org/numpy-random-permutation-in-python/ \n",
    "- https://numpy.org/doc/stable/reference/random/generated/numpy.random.permutation.html\n",
    "\n",
    "***\n",
    "***random generator/seeds:***\n",
    "- https://likegeeks.com/numpy-random-seed/\n",
    "- https://coderedirect.com/questions/113090/what-does-numpy-random-seed0-do\n",
    "- https://www.py4u.net/discuss/15203\n",
    "- https://www.sharpsightlabs.com/blog/numpy-random-seed/\n",
    "- https://docs.scipy.org/doc/numpy-1.15.1/reference/generated/numpy.random.seed.html#numpy.random.seed\n",
    "- https://stackoverflow.com/questions/21494489/what-does-numpy-random-seed0-do\n",
    "- https://www.youtube.com/watch?v=y4t8MuKqKt8\n",
    "- https://www.youtube.com/watch?v=gVlLnQU9pPc\n",
    "\n",
    "***\n",
    "***distributions:***\n",
    "\n",
    "- normal distrubution:\n",
    "    * https://www.geeksforgeeks.org/rand-vs-normal-numpy-random-python/\n",
    "    * https://www.pythonpool.com/numpy-random-normal/\n",
    "    * https://www.w3schools.com/python/numpy/numpy_random_normal.asp\n",
    "    * https://numpy.org/doc/stable/reference/random/generator.html\n",
    "    * https://www.youtube.com/watch?v=uial-2girHQ\n",
    "    * https://www.youtube.com/watch?v=ToiYdi_cWw0\n",
    "    * https://www.youtube.com/watch?v=ig_FutNrcO8\n",
    "\n",
    "\n",
    "- uniform distribution:\n",
    "    * https://numpy.org/doc/stable/reference/random/generated/numpy.random.uniform.html\n",
    "    * https://docs.scipy.org/doc/numpy-1.9.2/reference/routines.random.html\n",
    "    * https://www.geeksforgeeks.org/numpy-random-uniform-in-python/\n",
    "    * https://www.w3schools.com/python/numpy/numpy_random_uniform.asp\n",
    "    * http://omz-software.com/pythonista/numpy/reference/generated/numpy.random.uniform.html\n",
    "    * https://www.youtube.com/watch?v=ymv5TmFiobE\n",
    "    * https://www.youtube.com/watch?v=9zJ3FXqrqJc\n",
    "    * https://www.sharpsightlabs.com/blog/np-random-uniform/\n",
    "    * https://www.math.uci.edu/~isik/teaching/17W_MATH9/notes/Lecture18.html\n",
    "\n",
    "\n",
    "- binomial distribution:\n",
    "    * https://www.youtube.com/watch?v=lyW_dQ5BqSs \n",
    "    * https://www.alphacodingskills.com/numpy/numpy-binomial-distribution.php\n",
    "    * https://stackoverflow.com/questions/62305011/binomial-distribution-using-numpy\n",
    "    * https://numpy.org/doc/stable/reference/random/generated/numpy.random.binomial.html\n",
    "    * https://www.w3schools.com/python/numpy/numpy_random_binomial.asp\n",
    "    * https://stackoverflow.com/questions/27644617/difference-between-n-and-size-parameters-in-np-random-binomialn-p-size-1000\n",
    "    * https://www.youtube.com/watch?v=uial-2girHQ&t=845s\n",
    "    * https://www.youtube.com/watch?v=8idr1WZ1A7Q&t=1s\n",
    "    * https://www.youtube.com/watch?v=K0JLSf2D1rg\n",
    "    * https://www.youtube.com/watch?v=Uz2BEdCVe80\n",
    "    * https://www.youtube.com/watch?v=mdkRXELKF-8\n",
    "    * https://www.youtube.com/watch?v=J8jNoF-K8E8\n",
    "    * https://www.youtube.com/watch?v=h8T2dwZJMUw\n",
    "***\n",
    "***"
   ]
  },
  {
   "cell_type": "code",
   "execution_count": null,
   "id": "3763341e",
   "metadata": {},
   "outputs": [],
   "source": []
  }
 ],
 "metadata": {
  "kernelspec": {
   "display_name": "Python 3",
   "language": "python",
   "name": "python3"
  },
  "language_info": {
   "codemirror_mode": {
    "name": "ipython",
    "version": 3
   },
   "file_extension": ".py",
   "mimetype": "text/x-python",
   "name": "python",
   "nbconvert_exporter": "python",
   "pygments_lexer": "ipython3",
   "version": "3.8.8"
  }
 },
 "nbformat": 4,
 "nbformat_minor": 5
}

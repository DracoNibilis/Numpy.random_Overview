{
 "cells": [
  {
   "cell_type": "markdown",
   "id": "7ec1733d",
   "metadata": {},
   "source": [
    "#  The Numpy.random() package\n",
    "\n",
    "\n",
    "***\n"
   ]
  },
  {
   "cell_type": "markdown",
   "id": "fbdf5d10",
   "metadata": {},
   "source": [
    "NOTE FOR ME \n",
    "1. Explain the overall purpose of the package.\n",
    "\n",
    "2. Explain the use of the “Simple random data” and “Permutations” functions.\n",
    "\n",
    "3. Explain the use and purpose of at least five “Distributions” functions.\n",
    "\n",
    "4. Explain the use of seeds in generating pseudorandom numbers.\n",
    "\n",
    "***"
   ]
  },
  {
   "cell_type": "markdown",
   "id": "d759b700",
   "metadata": {},
   "source": [
    "### Explain the overall purpose of the package - numpy.random()\n",
    "\n",
    "\n",
    "https://numpy.org/doc/stable/reference/random/index.html?highlight=numpy%20random#module-numpy.random - numpy.random() documentation\n",
    "[click here](https://numpy.org/doc/stable/reference/random/index.html?highlight=numpy%20random#module-numpy.random)\n",
    "\n",
    "https://numpy.org/doc/1.16/reference/routines.random.html - This is documentation for an old release of NumPy (version 1.16)\n",
    "[click here](https://numpy.org/doc/1.16/reference/routines.random.html)\n",
    "\n",
    "https://numpy.org/doc/stable/ - Numpy v1.21 Overview\n",
    "[click here](https://numpy.org/doc/stable/)\n",
    "\n",
    "***"
   ]
  },
  {
   "cell_type": "markdown",
   "id": "9694c2dd",
   "metadata": {},
   "source": [
    "The **random** is a module present in the NumPy library. This module contains the functions which are used for generating random numbers. \n",
    "This module contains:\n",
    "  * simple random data,\n",
    "  * permutations,\n",
    "  * distributions,\n",
    "  * random generator.\n",
    "\n",
    "***"
   ]
  },
  {
   "cell_type": "markdown",
   "id": "2aa78ef4",
   "metadata": {},
   "source": [
    "To start with numpy random library needs to be imported\n",
    "```import numpy as np```"
   ]
  },
  {
   "cell_type": "code",
   "execution_count": 1,
   "id": "7be6214c",
   "metadata": {},
   "outputs": [],
   "source": [
    "import numpy as np"
   ]
  },
  {
   "cell_type": "code",
   "execution_count": null,
   "id": "05394352",
   "metadata": {},
   "outputs": [],
   "source": []
  }
 ],
 "metadata": {
  "kernelspec": {
   "display_name": "Python 3",
   "language": "python",
   "name": "python3"
  },
  "language_info": {
   "codemirror_mode": {
    "name": "ipython",
    "version": 3
   },
   "file_extension": ".py",
   "mimetype": "text/x-python",
   "name": "python",
   "nbconvert_exporter": "python",
   "pygments_lexer": "ipython3",
   "version": "3.8.8"
  }
 },
 "nbformat": 4,
 "nbformat_minor": 5
}

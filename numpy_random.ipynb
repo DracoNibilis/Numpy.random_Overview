{
 "cells": [
  {
   "cell_type": "markdown",
   "id": "7ec1733d",
   "metadata": {},
   "source": [
    "#  The Numpy.random package\n",
    "\n",
    "\n",
    "<img src=\"https://raw.githubusercontent.com/donnemartin/data-science-ipython-notebooks/master/images/numpy.png\" />\n",
    "\n",
    "\n",
    "\n",
    "***\n"
   ]
  },
  {
   "cell_type": "markdown",
   "id": "669e554b",
   "metadata": {},
   "source": [
    "### Explain the overall purpose of the package - numpy.random()\n",
    "***"
   ]
  },
  {
   "cell_type": "markdown",
   "id": "d89497e7",
   "metadata": {},
   "source": [
    "The **random** is a module present in the NumPy library. This module contains the functions which are used for generating random numbers, module contains:\n",
    "  * simple random data,\n",
    "  * permutations,\n",
    "  * distributions,\n",
    "  * random generator.\n",
    "\n",
    "\n",
    "##### Note\n",
    "\n",
    "**Random number** does **NOT** mean a different number every time. **Random** means something that can not be predicted logically.\n",
    "Pseudo-random numbers are computer generated numbers that appear random, but are actually predetermined.\n",
    "\n",
    "*Below are links with full documentation about the module.*  \n",
    "\n",
    "- numpy.random() documentation [click here](https://numpy.org/doc/stable/reference/random/index.html?highlight=numpy%20random#module-numpy.random)\n",
    "\n",
    "- This is documentation for an old release of NumPy (version 1.16) [click here](https://numpy.org/doc/1.16/reference/routines.random.html)\n",
    "\n",
    "- Numpy v1.21 Overview [click here](https://numpy.org/doc/stable/)\n",
    "\n",
    "\n",
    "***"
   ]
  },
  {
   "cell_type": "markdown",
   "id": "fbdf5d10",
   "metadata": {},
   "source": [
    "#### Modules\n",
    "To dig deeper into the module, we will need do to few imports of libraries that gonna be used in the below description:\n"
   ]
  },
  {
   "cell_type": "code",
   "execution_count": 1,
   "id": "f9e69fff",
   "metadata": {},
   "outputs": [],
   "source": [
    "# import packages\n",
    "import numpy as np # for statistical methods\n",
    "import matplotlib.pyplot as plt # for plotting\n"
   ]
  },
  {
   "cell_type": "markdown",
   "id": "76d8ee48",
   "metadata": {},
   "source": [
    "***\n",
    "***"
   ]
  },
  {
   "cell_type": "markdown",
   "id": "24b664b7",
   "metadata": {},
   "source": [
    "### Simple Random Data\n",
    "***"
   ]
  },
  {
   "cell_type": "markdown",
   "id": "9694c2dd",
   "metadata": {},
   "source": [
    "The numpy random has ability to generate random list of data. Functions included in ***simple random data*** return array of data with random values in specified scope and shape. \n",
    "Functions included here are:\n",
    "- rand\n",
    "- randn\n",
    "- randint\n",
    "- random_integers\n",
    "- random_sample\n",
    "- random\n",
    "- ranf\n",
    "- sample\n",
    "- choice\n",
    "- bytes.\n",
    "\n"
   ]
  },
  {
   "cell_type": "markdown",
   "id": "2aa78ef4",
   "metadata": {},
   "source": [
    "We will look into ***rand*** function to see how it works."
   ]
  },
  {
   "cell_type": "markdown",
   "id": "2d4f6a56",
   "metadata": {},
   "source": [
    "***rand*** function syntax:\n",
    "```\n",
    "     numpy.random.rand(d0, d1, ..., dn)\n",
    "     \n",
    "``` \n",
    "d - for dimensions\n",
    "\n",
    "If no argument is given a single Python float is returned.\n",
    "***"
   ]
  },
  {
   "cell_type": "code",
   "execution_count": 2,
   "id": "7be6214c",
   "metadata": {},
   "outputs": [
    {
     "name": "stdout",
     "output_type": "stream",
     "text": [
      "0.6518211800351271\n"
     ]
    }
   ],
   "source": [
    "# use rand without an argument.\n",
    "rgn = np.random.rand()\n",
    "print(rgn)"
   ]
  },
  {
   "cell_type": "markdown",
   "id": "e23607c0",
   "metadata": {},
   "source": [
    "Function rand used without parameters will generate one random number in the scope 0-1. Each time when we will use the function it will generate a different number. Lets try it few times:"
   ]
  },
  {
   "cell_type": "code",
   "execution_count": 3,
   "id": "b1e9e2fb",
   "metadata": {
    "scrolled": true
   },
   "outputs": [
    {
     "name": "stdout",
     "output_type": "stream",
     "text": [
      "first number is:  0.6396079496601376\n"
     ]
    }
   ],
   "source": [
    "print(\"first number is: \", np.random.rand())"
   ]
  },
  {
   "cell_type": "code",
   "execution_count": 4,
   "id": "025eb34b",
   "metadata": {},
   "outputs": [
    {
     "name": "stdout",
     "output_type": "stream",
     "text": [
      "second number is:  0.291360387901585\n"
     ]
    }
   ],
   "source": [
    "print(\"second number is: \", np.random.rand())"
   ]
  },
  {
   "cell_type": "code",
   "execution_count": 5,
   "id": "38ef9a8a",
   "metadata": {},
   "outputs": [
    {
     "name": "stdout",
     "output_type": "stream",
     "text": [
      "third number is:  0.9863356319341811\n"
     ]
    }
   ],
   "source": [
    "print(\"third number is: \", np.random.rand())"
   ]
  },
  {
   "cell_type": "markdown",
   "id": "af673617",
   "metadata": {},
   "source": [
    "By using only one parameter _(8)_ we will get 1D Array filled with random values."
   ]
  },
  {
   "cell_type": "code",
   "execution_count": 6,
   "id": "a1e04409",
   "metadata": {},
   "outputs": [
    {
     "name": "stdout",
     "output_type": "stream",
     "text": [
      "[0.07931127 0.60114728 0.68514724 0.9400174  0.9099087  0.51472624\n",
      " 0.20356361 0.84369242]\n"
     ]
    }
   ],
   "source": [
    "# use rand with one argument.\n",
    "rgn = np.random.rand(8)\n",
    "print(rgn)"
   ]
  },
  {
   "cell_type": "markdown",
   "id": "aad33e04",
   "metadata": {},
   "source": [
    "By using two parameters _(5,3)_ we will get the array with 5 columns and 3 rows. "
   ]
  },
  {
   "cell_type": "code",
   "execution_count": 7,
   "id": "0a7b3010",
   "metadata": {},
   "outputs": [
    {
     "name": "stdout",
     "output_type": "stream",
     "text": [
      "[[0.3536819  0.58094444 0.03633316]\n",
      " [0.38112712 0.70555712 0.93406731]\n",
      " [0.81516158 0.66460464 0.98704458]\n",
      " [0.57360949 0.25340892 0.50482602]\n",
      " [0.95400809 0.5911301  0.879239  ]]\n"
     ]
    }
   ],
   "source": [
    "# use rand with two parameters.\n",
    "rgn = np.random.rand(5,3)\n",
    "print(rgn)"
   ]
  },
  {
   "cell_type": "markdown",
   "id": "41483a15",
   "metadata": {},
   "source": [
    "To change the range we can multiply the function by the largest number that we want to produce. "
   ]
  },
  {
   "cell_type": "code",
   "execution_count": 8,
   "id": "0ef2399c",
   "metadata": {},
   "outputs": [
    {
     "name": "stdout",
     "output_type": "stream",
     "text": [
      "[[3.90876128 2.62802263 2.95306352]\n",
      " [4.0559455  1.93593906 3.20233762]\n",
      " [3.7552888  7.6760065  2.08490327]\n",
      " [5.30305101 2.34445097 6.29223683]\n",
      " [7.79003151 9.35415084 1.65505499]]\n"
     ]
    }
   ],
   "source": [
    "# multiply function by 10 \n",
    "rgn = 10 * np.random.rand(5,3)\n",
    "print(rgn)"
   ]
  },
  {
   "cell_type": "markdown",
   "id": "3400b42c",
   "metadata": {},
   "source": [
    "Now the result contains random numbers from 0 up to 10.\n",
    "***\n",
    "***"
   ]
  },
  {
   "cell_type": "markdown",
   "id": "9f55510f",
   "metadata": {},
   "source": [
    "### Permutation\n",
    "***\n"
   ]
  },
  {
   "cell_type": "markdown",
   "id": "63265338",
   "metadata": {},
   "source": [
    "The numpy.random library has two function that performs permutations or shuffling data:\n",
    "* shuffle\n",
    "* permutation.\n"
   ]
  },
  {
   "cell_type": "markdown",
   "id": "f14c11b5",
   "metadata": {},
   "source": [
    "Let's look into permutation function. \n",
    "\n",
    "##### Note\n",
    "The key differences between the permutation() and shuffle() functions are that if passed an array, the permutation() function returns a shuffled copy of the original array. In contrast, the shuffle() function shuffles the original array.\n",
    "\n",
    "Two main purposes of ***permutation*** function:\n",
    "- to get a randomly permuted copy of a sequence\n",
    "- to get a randomly permuted range in Python."
   ]
  },
  {
   "cell_type": "markdown",
   "id": "445f28d7",
   "metadata": {},
   "source": [
    "***permutation*** function syntax:\n",
    "\n",
    "```\n",
    "    np.random.permutation(x)\n",
    "```\n",
    "If no argument is given we will get TypeError:\n",
    "```\n",
    "TypeError: permutation() takes exactly one argument (0 given)\n",
    "```\n"
   ]
  },
  {
   "cell_type": "markdown",
   "id": "9b3edc53",
   "metadata": {},
   "source": [
    "As one argument is needed for function to work, we can differ two types of arguments that can be passed to function:\n",
    "* an integer - \n",
    "* an array - "
   ]
  },
  {
   "cell_type": "markdown",
   "id": "5022ed8b",
   "metadata": {},
   "source": [
    "With an integer argument , function will give us a randomly permuted sequence of numbers with the given length."
   ]
  },
  {
   "cell_type": "code",
   "execution_count": 9,
   "id": "1118e8cf",
   "metadata": {},
   "outputs": [
    {
     "name": "stdout",
     "output_type": "stream",
     "text": [
      "with argument 2 -->  [1 0]\n",
      "with argument 20 -->  [17  7 19  6 13 10 16  8 14 15  4  2 11  5 18  9  1  3 12  0]\n"
     ]
    }
   ],
   "source": [
    "# passing as an argument, an integer \n",
    "arg_int_2 = np.random.permutation(2)\n",
    "print(\"with argument 2 --> \",arg_int_2)\n",
    "\n",
    "arg_int_20 = np.random.permutation(20)\n",
    "print(\"with argument 20 --> \", arg_int_20)"
   ]
  },
  {
   "cell_type": "markdown",
   "id": "9ec0c697",
   "metadata": {},
   "source": [
    "##### Note\n",
    "\n",
    "Each running of the code will generate differently shuffle sequence."
   ]
  },
  {
   "cell_type": "markdown",
   "id": "8fc0e8dd",
   "metadata": {},
   "source": [
    "With an array argument function will return a shuffled copy of the original array."
   ]
  },
  {
   "cell_type": "code",
   "execution_count": 10,
   "id": "f0bc47c3",
   "metadata": {},
   "outputs": [
    {
     "name": "stdout",
     "output_type": "stream",
     "text": [
      "original array  [1, 2, 3, 4, 5, 6, 7, 8, 9]\n",
      "shuffled array [6 1 9 8 4 7 2 3 5]\n",
      "original array after permutation [1, 2, 3, 4, 5, 6, 7, 8, 9]\n"
     ]
    }
   ],
   "source": [
    "# passing an array/list as an argument\n",
    "num_arr = [1,2,3,4,5,6,7,8,9]\n",
    "\n",
    "print(\"original array \", num_arr)\n",
    "print(\"shuffled array\", np.random.permutation(num_arr))\n",
    "print(\"original array after permutation\", num_arr)\n"
   ]
  },
  {
   "cell_type": "markdown",
   "id": "67048de6",
   "metadata": {},
   "source": [
    "***\n",
    "***"
   ]
  },
  {
   "cell_type": "markdown",
   "id": "54400e13",
   "metadata": {},
   "source": [
    "### Random generator\n",
    "***"
   ]
  },
  {
   "cell_type": "markdown",
   "id": "58721e72",
   "metadata": {},
   "source": [
    "In the numpy.random module we have also access to the random generator. Here we can find 4 functions:\n",
    "- RandomState\n",
    "- seed\n",
    "- get_state\n",
    "- set_state.\n"
   ]
  },
  {
   "cell_type": "markdown",
   "id": "8e345fe7",
   "metadata": {},
   "source": [
    "Let's look into ***seed*** function\n",
    "\n",
    "```\n",
    "    np.random.seed(seed=None)\n",
    "```\n",
    "\n",
    "Here we have only one parameter that we can choose which is ***seed*** value that will be used to \"seed\" the pseudo-random number generator."
   ]
  },
  {
   "cell_type": "markdown",
   "id": "4c3b5987",
   "metadata": {},
   "source": [
    "By definition np.random.seed() is simply function that sets the random seed of the NumPy pseud-random number generator. It provides an essential input that enables NumPy to generate pseudo-random numbers for random processes."
   ]
  },
  {
   "cell_type": "markdown",
   "id": "497fb9f9",
   "metadata": {},
   "source": [
    "***Other words*** if you run the algorithm with the same input , it will produce the same output. So you can use \"seed\" to create and thn re-create the exact same set of pseudo-random numbers."
   ]
  },
  {
   "cell_type": "markdown",
   "id": "b90b2e86",
   "metadata": {},
   "source": [
    "***Note*** \n",
    "Importantly, numpy.random.seed doesn’t exactly work all on its own, function works in conjunction with other functions from NumPy.\n",
    "Specifically, numpy.random.seed works with other function from the numpy.random namespace."
   ]
  },
  {
   "cell_type": "markdown",
   "id": "35063d3c",
   "metadata": {},
   "source": [
    "Let's see above rules in practice:"
   ]
  },
  {
   "cell_type": "code",
   "execution_count": 11,
   "id": "c65c1dad",
   "metadata": {},
   "outputs": [
    {
     "name": "stdout",
     "output_type": "stream",
     "text": [
      "[[0.8090085  0.40733403 0.70382298]\n",
      " [0.00122715 0.80015643 0.5977575 ]\n",
      " [0.19626863 0.15442223 0.28307697]\n",
      " [0.41723729 0.40393466 0.97211613]\n",
      " [0.15953258 0.21863797 0.76349458]]\n"
     ]
    }
   ],
   "source": [
    "# we will use familiar method from above - numpy.random.rand()\n",
    "rgn = np.random.rand(5,3)\n",
    "print(rgn)"
   ]
  },
  {
   "cell_type": "markdown",
   "id": "775b1332",
   "metadata": {},
   "source": [
    "Rand function will produce randomly generated array of numbers between 0-1. When we will run the same code again, we will get different array of numbers."
   ]
  },
  {
   "cell_type": "markdown",
   "id": "8285005a",
   "metadata": {},
   "source": [
    "Now lets do the same but with using ***seed***..."
   ]
  },
  {
   "cell_type": "code",
   "execution_count": 12,
   "id": "9cccc06b",
   "metadata": {},
   "outputs": [
    {
     "name": "stdout",
     "output_type": "stream",
     "text": [
      "[[0.5488135  0.71518937 0.60276338]\n",
      " [0.54488318 0.4236548  0.64589411]\n",
      " [0.43758721 0.891773   0.96366276]\n",
      " [0.38344152 0.79172504 0.52889492]\n",
      " [0.56804456 0.92559664 0.07103606]]\n"
     ]
    }
   ],
   "source": [
    "# using seed with rand function.\n",
    "np.random.seed(0)\n",
    "rgn = np.random.rand(5,3)\n",
    "print(rgn)"
   ]
  },
  {
   "cell_type": "markdown",
   "id": "40d61559",
   "metadata": {},
   "source": [
    "And we see that code genreated array with random numbers, but here if we run the same code again, the number will stay ***the same***. Let's try ...."
   ]
  },
  {
   "cell_type": "code",
   "execution_count": 13,
   "id": "31076d9d",
   "metadata": {},
   "outputs": [
    {
     "name": "stdout",
     "output_type": "stream",
     "text": [
      "[[0.5488135  0.71518937 0.60276338]\n",
      " [0.54488318 0.4236548  0.64589411]\n",
      " [0.43758721 0.891773   0.96366276]\n",
      " [0.38344152 0.79172504 0.52889492]\n",
      " [0.56804456 0.92559664 0.07103606]]\n"
     ]
    }
   ],
   "source": [
    "# Run the same code again.\n",
    "np.random.seed(0)\n",
    "rgn = np.random.rand(5,3)\n",
    "print(rgn)"
   ]
  },
  {
   "cell_type": "markdown",
   "id": "c86ccb52",
   "metadata": {},
   "source": [
    "Result is exacly the same like above."
   ]
  },
  {
   "cell_type": "markdown",
   "id": "3e57b043",
   "metadata": {},
   "source": [
    "***Note*** \n",
    "Here we use just one parameter to seed - 0.\n",
    "Let's see what will happen if we change it. And also we will change the function that we will see that example on. \n",
    "Let's generate some random integers."
   ]
  },
  {
   "cell_type": "markdown",
   "id": "bbb2a18a",
   "metadata": {},
   "source": [
    "Let's generate some random integers, to do that we gonna use ***randint*** function. \n",
    "    ```np.random.randint()\n",
    "    ```"
   ]
  },
  {
   "cell_type": "code",
   "execution_count": 14,
   "id": "ebb7278c",
   "metadata": {},
   "outputs": [
    {
     "name": "stdout",
     "output_type": "stream",
     "text": [
      "[2 5]\n"
     ]
    }
   ],
   "source": [
    "# why just simply generate random, let's play dice \n",
    "dices = np.random.randint(1,7, size=2)\n",
    "print(dices)"
   ]
  },
  {
   "cell_type": "markdown",
   "id": "15c872d3",
   "metadata": {},
   "source": [
    "Each run of above code will generate random generation of two integers 1-6 (in parameter is 7 but it's exclusive). "
   ]
  },
  {
   "cell_type": "code",
   "execution_count": 15,
   "id": "6a764f3d",
   "metadata": {},
   "outputs": [
    {
     "name": "stdout",
     "output_type": "stream",
     "text": [
      "[5 6]\n"
     ]
    }
   ],
   "source": [
    "# use seed method \n",
    "np.random.seed(0)\n",
    "dices = np.random.randint(1,7, size=2)\n",
    "print(dices)"
   ]
  },
  {
   "cell_type": "markdown",
   "id": "1f56a555",
   "metadata": {},
   "source": [
    "Hard to belive for a word, so lets copy the code and see...."
   ]
  },
  {
   "cell_type": "code",
   "execution_count": 16,
   "id": "f03164b4",
   "metadata": {},
   "outputs": [
    {
     "name": "stdout",
     "output_type": "stream",
     "text": [
      "[5 6]\n"
     ]
    }
   ],
   "source": [
    "# another use of the same code, with the same seed\n",
    "np.random.seed(0)\n",
    "dices = np.random.randint(1,7, size=2)\n",
    "print(dices)"
   ]
  },
  {
   "cell_type": "markdown",
   "id": "658d8b31",
   "metadata": {},
   "source": [
    "And output is exacly the same."
   ]
  },
  {
   "cell_type": "markdown",
   "id": "99ba9725",
   "metadata": {},
   "source": [
    "What about different seed."
   ]
  },
  {
   "cell_type": "code",
   "execution_count": 17,
   "id": "c5e8d662",
   "metadata": {},
   "outputs": [
    {
     "name": "stdout",
     "output_type": "stream",
     "text": [
      "[2 6]\n"
     ]
    }
   ],
   "source": [
    "# let's change the seed to 10 \n",
    "np.random.seed(10)\n",
    "dices = np.random.randint(1,7, size=2)\n",
    "print(dices)"
   ]
  },
  {
   "cell_type": "markdown",
   "id": "b08a2700",
   "metadata": {},
   "source": [
    "Running above code again will give exacly the same output."
   ]
  },
  {
   "cell_type": "markdown",
   "id": "d7b4db06",
   "metadata": {},
   "source": [
    "***Note***\n",
    "If you give a pseudo-random number generator the same input, you'll get the same output.\n",
    "And code that has well defined, repeatable outputs is good for testing. Also is good in case that code has to be shared and we want to keep exacly the same group for testing. "
   ]
  },
  {
   "cell_type": "markdown",
   "id": "219471e5",
   "metadata": {},
   "source": [
    "***\n",
    "***"
   ]
  },
  {
   "cell_type": "markdown",
   "id": "9d0519b0",
   "metadata": {},
   "source": [
    "### Distributions\n",
    "***"
   ]
  },
  {
   "cell_type": "markdown",
   "id": "c3bd7bc2",
   "metadata": {},
   "source": [
    "In this part we will go throught functions that draw samples based on a specify distribution.\n",
    "Whitin this category we will have many variations exists to produce many combinations of random data with varing distributions.\n",
    "Since list of these functions is long, we will focus on few choosen:\n",
    " \n",
    " - numpy.random.normal\n",
    " - numpy.random.uniform\n",
    " - numpy.random.chisquare\n",
    " - numpy.random.gamma\n",
    " - numpy.random.binomial\n",
    "\n",
    "\n",
    " \n",
    " "
   ]
  },
  {
   "cell_type": "markdown",
   "id": "2243d7f6",
   "metadata": {},
   "source": [
    "***"
   ]
  },
  {
   "cell_type": "markdown",
   "id": "1394a487",
   "metadata": {},
   "source": [
    "##### numpy.random.normal"
   ]
  },
  {
   "cell_type": "markdown",
   "id": "8f530ab8",
   "metadata": {},
   "source": [
    "First function that we gonna look into is ***numpy.random.normal***:\n",
    "\n",
    "```\n",
    "    numpy.random.normal(loc=0.0, scale=1.0, size=None)\n",
    "    \n",
    "```\n",
    "***parameters***:\n",
    "- ***loc*** - this parameter controls the mean of the function. It defaults to 0, so if you dont use this parameter to specify the mean of the distribution, the mean will be at 0. \n",
    "- ***scale*** - controls the standard deviation of the normal distribution. By default it's set to 1. It must not be a negative value.\n",
    "- ***size*** - this one controls the size and shape of the output. If you provide a single integer, x, np.random.normal will provide x random normal values in a 1-dimensional NumPy array. For example, if you specify size = (2, 3), np.random.normal will produce a numpy array with 2 rows and 3 columns. It will be filled with numbers drawn from a random normal distribution.\n",
    "\n",
    "***Note***\n",
    "All of those parameters are optional, so by not choosing them they will be set to default.\n",
    "- loc - default is 0\n",
    "- scale - default is 1\n",
    "- size - default is 1.\n",
    "\n",
    "\n",
    "\n",
    "This function draw random samples from a normal (Gaussian) distribution. \n",
    "Normally distributed data is shaped sort of like a bell, so it’s often called the “bell curve.”\n"
   ]
  },
  {
   "cell_type": "markdown",
   "id": "066f1b00",
   "metadata": {},
   "source": [
    "***Firstly*** let's create *np.random.normal() function with one parameter and we will start from the ***loc*** parameter."
   ]
  },
  {
   "cell_type": "code",
   "execution_count": 18,
   "id": "98322017",
   "metadata": {},
   "outputs": [
    {
     "name": "stdout",
     "output_type": "stream",
     "text": [
      "5.037772614402271\n"
     ]
    }
   ],
   "source": [
    "# function with only loc as a given parameter.\n",
    "loc_parameter = np.random.normal(loc=5)\n",
    "print(loc_parameter)"
   ]
  },
  {
   "cell_type": "markdown",
   "id": "515e6485",
   "metadata": {},
   "source": [
    "***loc*** means the mean value of the random values chose from the function, other words is where the peak of the bell exists. So the output will be one number close to the mean that we choose, in this case is 5. Each run of code will give us different result.\n"
   ]
  },
  {
   "cell_type": "markdown",
   "id": "b065ba74",
   "metadata": {},
   "source": [
    "***Secondly*** let's create np.random.normal() function with one parameter choosen and this time let's go with ***scale***."
   ]
  },
  {
   "cell_type": "code",
   "execution_count": 19,
   "id": "b83f9d90",
   "metadata": {},
   "outputs": [
    {
     "name": "stdout",
     "output_type": "stream",
     "text": [
      "-0.6772424577800505\n"
     ]
    }
   ],
   "source": [
    "# function with only scale as a given parameter.\n",
    "scale_parameter = np.random.normal(scale=5.0)\n",
    "print(scale_parameter)"
   ]
  },
  {
   "cell_type": "markdown",
   "id": "896a55f8",
   "metadata": {},
   "source": [
    "***scale*** means the standard deviation of the values choosen from the function. Also each run of code will give us a different result."
   ]
  },
  {
   "cell_type": "markdown",
   "id": "920b0c0a",
   "metadata": {},
   "source": [
    "***Thirdly*** let's create np.random.normal() with ***size*** as a choosen parameter."
   ]
  },
  {
   "cell_type": "code",
   "execution_count": 20,
   "id": "14264837",
   "metadata": {},
   "outputs": [
    {
     "name": "stdout",
     "output_type": "stream",
     "text": [
      "[-0.01002595  1.67080819 -0.66437971 -0.60555494 -0.65099088]\n"
     ]
    }
   ],
   "source": [
    "# function with only size as a given parameter.\n",
    "size_parameter = np.random.normal(size=5)\n",
    "print(size_parameter)"
   ]
  },
  {
   "cell_type": "markdown",
   "id": "5ffcddc0",
   "metadata": {},
   "source": [
    "***size*** means the number of values in the array, so here we have array with five elements. As with other two cases, each run of code will generate different set of numbers, but still will be five of them."
   ]
  },
  {
   "cell_type": "markdown",
   "id": "9c8c0a51",
   "metadata": {},
   "source": [
    "So now when we familiar with parameters, let's use them all together and get some real-life example. \n",
    "\n",
    "Example: height in adults."
   ]
  },
  {
   "cell_type": "code",
   "execution_count": 21,
   "id": "a7fe4d48",
   "metadata": {},
   "outputs": [
    {
     "name": "stdout",
     "output_type": "stream",
     "text": [
      "[1.82688516 1.78935832 1.66259025 ... 1.75266492 1.75111919 1.64653351]\n"
     ]
    }
   ],
   "source": [
    "# creating function with heights of adults\n",
    "heights = np.random.normal(loc=1.75, # loc will be the set to 1.75 which means the most common height in cm\n",
    "                           scale=0.15, # scale (standard deviation) set for 0.15\n",
    "                           size=10000) # size set to 10000 - the amount of the people\n",
    "print(heights)"
   ]
  },
  {
   "cell_type": "markdown",
   "id": "4c139627",
   "metadata": {},
   "source": [
    "***Note***\n",
    "Not all data are shown in the output above, so it's not easy to read and analize our results."
   ]
  },
  {
   "cell_type": "markdown",
   "id": "d48342d0",
   "metadata": {},
   "source": [
    "To get a better view let's plot those data into histogram using pyplot library."
   ]
  },
  {
   "cell_type": "code",
   "execution_count": 28,
   "id": "2e64fc25",
   "metadata": {},
   "outputs": [
    {
     "data": {
      "image/png": "[encoded data removed]",
      "text/plain": [
       "<Figure size 432x288 with 1 Axes>"
      ]
     },
     "metadata": {
      "needs_background": "light"
     },
     "output_type": "display_data"
    }
   ],
   "source": [
    "# drawing histogram of normally distributed data of height\n",
    "plt.hist(heights, # use of heights data created above\n",
    "         bins=50,  # how many data should be group in one bin\n",
    "         color=\"g\") # changing color of histogram\n",
    "plt.title(\"Normal Distribution\")\n",
    "plt.show()"
   ]
  },
  {
   "cell_type": "markdown",
   "id": "2693fb32",
   "metadata": {},
   "source": [
    "Now we can see that the histogram is going into mentioned above Bell Shape. So to do analysis of that shape, we can surly enough say that it's more common that in our group of 10000 people most of them will have height between 1.60 cm and 1.90 cm, and as in real life, rarely we can meet somebody whos height is less than 1.4 cm, and somebody whos height is above 2.2 cm."
   ]
  },
  {
   "cell_type": "code",
   "execution_count": null,
   "id": "b803c7cf",
   "metadata": {},
   "outputs": [],
   "source": []
  },
  {
   "cell_type": "code",
   "execution_count": null,
   "id": "1b17de31",
   "metadata": {},
   "outputs": [],
   "source": []
  },
  {
   "cell_type": "code",
   "execution_count": null,
   "id": "8d9b8917",
   "metadata": {},
   "outputs": [],
   "source": []
  },
  {
   "cell_type": "code",
   "execution_count": null,
   "id": "42e20167",
   "metadata": {},
   "outputs": [],
   "source": []
  },
  {
   "cell_type": "code",
   "execution_count": null,
   "id": "81d72b13",
   "metadata": {},
   "outputs": [],
   "source": []
  },
  {
   "cell_type": "code",
   "execution_count": null,
   "id": "58260ec1",
   "metadata": {},
   "outputs": [],
   "source": []
  },
  {
   "cell_type": "code",
   "execution_count": null,
   "id": "0c67b86f",
   "metadata": {},
   "outputs": [],
   "source": []
  },
  {
   "cell_type": "code",
   "execution_count": null,
   "id": "7a8243a2",
   "metadata": {},
   "outputs": [],
   "source": []
  },
  {
   "cell_type": "markdown",
   "id": "66a9ace5",
   "metadata": {},
   "source": [
    "***\n",
    "***\n",
    "            ``` References: ```\n",
    "***\n",
    "***simple random data:***\n",
    "- https://docs.scipy.org/doc/numpy-1.12.0/reference/routines.random.html\n",
    "- https://www.w3schools.com/python/numpy/numpy_random.asp\n",
    "- https://www.geeksforgeeks.org/random-sampling-in-numpy-random-function/\n",
    "- https://numpy.org/doc/1.16/reference/routines.random.html\n",
    "- https://numpy.org/doc/1.16/reference/generated/numpy.random.rand.html#numpy.random.rand\n",
    "- https://www.geeksforgeeks.org/numpy-random-rand-python/\n",
    "\n",
    "***\n",
    "***permutations:***\n",
    "- https://www.w3schools.com/python/numpy/numpy_random_permutation.asp\n",
    "- https://numpy.org/doc/1.16/reference/generated/numpy.random.permutation.html#numpy.random.permutation\n",
    "- https://www.codegrepper.com/code-examples/python/numpy+random+permutation\n",
    "- https://codingstreets.com/introduction-to-python-numpy-random-permutations/\n",
    "- https://www.delftstack.com/howto/numpy/python-numpy-random-permutation/\n",
    "- https://www.geeksforgeeks.org/numpy-random-permutation-in-python/ \n",
    "- https://numpy.org/doc/stable/reference/random/generated/numpy.random.permutation.html\n",
    "\n",
    "***\n",
    "***random generator/seeds:***\n",
    "- https://likegeeks.com/numpy-random-seed/\n",
    "- https://coderedirect.com/questions/113090/what-does-numpy-random-seed0-do\n",
    "- https://www.py4u.net/discuss/15203\n",
    "- https://www.sharpsightlabs.com/blog/numpy-random-seed/\n",
    "- https://docs.scipy.org/doc/numpy-1.15.1/reference/generated/numpy.random.seed.html#numpy.random.seed\n",
    "- https://stackoverflow.com/questions/21494489/what-does-numpy-random-seed0-do\n",
    "- https://www.youtube.com/watch?v=y4t8MuKqKt8\n",
    "- https://www.youtube.com/watch?v=gVlLnQU9pPc\n",
    "\n",
    "***\n",
    "***distributions:***\n",
    "\n",
    "- normal distrubution:\n",
    "    * https://www.geeksforgeeks.org/rand-vs-normal-numpy-random-python/\n",
    "    * https://www.pythonpool.com/numpy-random-normal/\n",
    "    * https://www.w3schools.com/python/numpy/numpy_random_normal.asp\n",
    "    * https://numpy.org/doc/stable/reference/random/generator.html\n",
    "    * https://www.youtube.com/watch?v=uial-2girHQ\n",
    "    * https://www.youtube.com/watch?v=ToiYdi_cWw0\n",
    "    * https://www.youtube.com/watch?v=ig_FutNrcO8\n",
    "\n",
    "\n",
    "- uniform distribution:\n",
    "\n",
    "\n",
    "- binomial distribution:\n",
    "    * https://www.youtube.com/watch?v=lyW_dQ5BqSs   <--- here\n",
    "***\n",
    "***"
   ]
  },
  {
   "cell_type": "code",
   "execution_count": null,
   "id": "3763341e",
   "metadata": {},
   "outputs": [],
   "source": []
  }
 ],
 "metadata": {
  "kernelspec": {
   "display_name": "Python 3",
   "language": "python",
   "name": "python3"
  },
  "language_info": {
   "codemirror_mode": {
    "name": "ipython",
    "version": 3
   },
   "file_extension": ".py",
   "mimetype": "text/x-python",
   "name": "python",
   "nbconvert_exporter": "python",
   "pygments_lexer": "ipython3",
   "version": "3.8.8"
  }
 },
 "nbformat": 4,
 "nbformat_minor": 5
}
